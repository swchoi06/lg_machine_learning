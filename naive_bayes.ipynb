{
 "cells": [
  {
   "cell_type": "code",
   "execution_count": 124,
   "metadata": {},
   "outputs": [],
   "source": [
    "import csv\n",
    "import random\n",
    "import math\n",
    "import numpy as np\n",
    "\n",
    "# Load data from CSV\n",
    "filename = 'diabetes.csv'\n",
    "lines = csv.reader(open(filename, \"r\"))\n",
    "data = np.array(list(lines)[1:])\n",
    "data = data.astype(float)"
   ]
  },
  {
   "cell_type": "code",
   "execution_count": 125,
   "metadata": {},
   "outputs": [
    {
     "name": "stdout",
     "output_type": "stream",
     "text": [
      "Split 768 rows into train=614 and test=153 rows\n"
     ]
    }
   ],
   "source": [
    "# Split dataset (training set, test set)\n",
    "split_ratio = 0.8\n",
    "train_size = int(data.shape[0]*split_ratio)\n",
    "\n",
    "split_data = np.split(data, [train_size, -1])\n",
    "train_data = split_data[0]\n",
    "test_data = split_data[1]\n",
    "\n",
    "print('Split {0} rows into train={1} and test={2} rows'.format(len(data), len(train_data), len(test_data)))"
   ]
  },
  {
   "cell_type": "code",
   "execution_count": 126,
   "metadata": {},
   "outputs": [
    {
     "name": "stdout",
     "output_type": "stream",
     "text": [
      "(153, 9)\n",
      "0.7450980392156863\n"
     ]
    }
   ],
   "source": [
    "# Separate data by outcome\n",
    "data0 = train_data[train_data[:, -1] == 0, :]\n",
    "data1 = train_data[train_data[:, -1] == 1, :]\n",
    "\n",
    "size0 = data0.shape[0]\n",
    "size1 = data1.shape[0]\n",
    "\n",
    "# Train model (find mean and stdev)\n",
    "mean0 = # TODO\n",
    "# [3.28678304 109.52369077  67.67581047  19.76558603  67.32169576 30.0394015 0.43479302  31.32668329]\n",
    "mean1 = # TODO\n",
    "# [  4.76995305 141.01408451  70.11737089  22.33333333 104.73239437 35.37511737 0.56850704  36.71830986]\n",
    "stdev0 = # TODO\n",
    "# [ 3.00042389 26.87395651 18.1297523  14.78659205 99.70119324  7.77272831 0.29993086 11.79354873]\n",
    "stdev1 = # TODO\n",
    "# [  3.72009371  32.72283361  21.99552512  17.80374668 139.745136 7.1216321    0.38150783  10.86474649]\n",
    "\n",
    "# Predict test_data\n",
    "pdf = lambda mean, stdev, x: scipy.stats.norm(mean, stdev).pdf(x)\n",
    "\n",
    "result = np.zeros(test_data.shape[0]) # 0 or 1\n",
    "for i, data in enumerate(test_data):\n",
    "    prob0, prob1 = 0, 0\n",
    "    # TODO\n",
    "    if(prob0 > prob1):\n",
    "        result[i] = 0\n",
    "    else:\n",
    "        result[i] = 1\n",
    "\n",
    "# Check Accuracy\n",
    "correct = 0\n",
    "for i, data in enumerate(test_data):\n",
    "    if data[-1] == result[i]:\n",
    "        correct += 1\n",
    "print(correct/test_data.shape[0])"
   ]
  }
 ],
 "metadata": {
  "kernelspec": {
   "display_name": "Python 3",
   "language": "python",
   "name": "python3"
  },
  "language_info": {
   "codemirror_mode": {
    "name": "ipython",
    "version": 3
   },
   "file_extension": ".py",
   "mimetype": "text/x-python",
   "name": "python",
   "nbconvert_exporter": "python",
   "pygments_lexer": "ipython3",
   "version": "3.7.1"
  }
 },
 "nbformat": 4,
 "nbformat_minor": 2
}
