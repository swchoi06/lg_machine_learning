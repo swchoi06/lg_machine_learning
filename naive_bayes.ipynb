{
 "cells": [
  {
   "cell_type": "code",
   "execution_count": null,
   "metadata": {},
   "outputs": [],
   "source": [
    "import csv\n",
    "import random\n",
    "import math\n",
    "import numpy as np\n",
    "import scipy.stats\n",
    "\n",
    "# Load data from CSV\n",
    "filename = 'diabetes.csv'\n",
    "lines = csv.reader(open(filename, \"r\"))\n",
    "data = np.array(list(lines)[1:])\n",
    "data = data.astype(float)"
   ]
  },
  {
   "cell_type": "code",
   "execution_count": null,
   "metadata": {},
   "outputs": [],
   "source": [
    "# Split dataset (training set, test set)\n",
    "split_ratio = 0.8\n",
    "train_size = int(data.shape[0]*split_ratio)\n",
    "\n",
    "split_data = np.split(data, [train_size, -1])\n",
    "train_data = split_data[0]\n",
    "test_data = split_data[1]\n",
    "\n",
    "print('Split {0} rows into train={1} and test={2} rows'.format(len(data), len(train_data), len(test_data)))"
   ]
  },
  {
   "cell_type": "code",
   "execution_count": null,
   "metadata": {},
   "outputs": [],
   "source": [
    "# Separate data by outcome\n",
    "data0 = train_data[train_data[:, -1] == 0, :]\n",
    "data1 = train_data[train_data[:, -1] == 1, :]\n",
    "\n",
    "size0 = data0.shape[0]\n",
    "size1 = data1.shape[0]\n",
    "\n",
    "# Train model (find mean and stdev)\n",
    "mean0 = np.mean(data0, axis=0)[:-1]\n",
    "mean1 = np.mean(data1, axis=0)[:-1]\n",
    "stdev0 = np.std(data0, axis=0)[:-1]\n",
    "stdev1 = np.std(data1, axis=0)[:-1]\n",
    "\n",
    "# Predict test_data\n",
    "pdf = lambda mean, stdev, x: scipy.stats.norm(mean, stdev).pdf(x)\n",
    "\n",
    "result = np.zeros(test_data.shape[0])\n",
    "for i, data in enumerate(test_data):\n",
    "    prob0, prob1 = size0/(size0 + size1), size1/(size0+size1)\n",
    "    for j, field in enumerate(np.delete(data, np.s_[-1])):\n",
    "        prob0 *= pdf(mean0[j], stdev0[j], field)\n",
    "        prob1 *= pdf(mean1[j], stdev1[j], field)\n",
    "    if(prob0 > prob1):\n",
    "        result[i] = 0\n",
    "    else:\n",
    "        result[i] = 1\n",
    "\n",
    "# Check Accuracy\n",
    "correct = 0\n",
    "for i, data in enumerate(test_data):\n",
    "    if data[-1] == result[i]:\n",
    "        correct += 1\n",
    "print(correct/test_data.shape[0])"
   ]
  },
  {
   "cell_type": "code",
   "execution_count": null,
   "metadata": {},
   "outputs": [],
   "source": []
  }
 ],
 "metadata": {
  "kernelspec": {
   "display_name": "Python 3",
   "language": "python",
   "name": "python3"
  },
  "language_info": {
   "codemirror_mode": {
    "name": "ipython",
    "version": 3
   },
   "file_extension": ".py",
   "mimetype": "text/x-python",
   "name": "python",
   "nbconvert_exporter": "python",
   "pygments_lexer": "ipython3",
   "version": "3.6.5"
  }
 },
 "nbformat": 4,
 "nbformat_minor": 2
}
