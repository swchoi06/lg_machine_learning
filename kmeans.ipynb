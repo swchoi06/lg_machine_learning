{
 "cells": [
  {
   "cell_type": "code",
   "execution_count": null,
   "metadata": {},
   "outputs": [],
   "source": [
    "# Import necessary libraries\n",
    "from copy import deepcopy\n",
    "import numpy as np # linear algebra\n",
    "import pandas as pd # data processing, CSV file I/O (e.g. pd.read_csv)\n",
    "from matplotlib import pyplot as plt\n",
    "import cv2"
   ]
  },
  {
   "cell_type": "code",
   "execution_count": null,
   "metadata": {},
   "outputs": [],
   "source": [
    "# Set three centers, the model should predict similar results\n",
    "center_1 = np.array([1,1])\n",
    "center_2 = np.array([5,5])\n",
    "center_3 = np.array([8,1])\n",
    "\n",
    "# Generate random data and center it to the three centers\n",
    "sigma = 1\n",
    "data_1 = sigma*np.random.randn(200,2) + center_1\n",
    "data_2 = sigma*np.random.randn(200,2) + center_2\n",
    "data_3 = sigma*np.random.randn(200,2) + center_3\n",
    "\n",
    "data = np.concatenate((data_1, data_2, data_3), axis = 0)\n",
    "np.random.shuffle(data)\n",
    "\n",
    "plt.scatter(data[:,0], data[:,1], s=7)"
   ]
  },
  {
   "cell_type": "code",
   "execution_count": null,
   "metadata": {},
   "outputs": [],
   "source": [
    "# Euclidean Distance Caculator\n",
    "def dist(a, b, ax=1):\n",
    "    return np.linalg.norm(a - b, axis=ax)"
   ]
  },
  {
   "cell_type": "code",
   "execution_count": null,
   "metadata": {},
   "outputs": [],
   "source": [
    "# Number of clusters\n",
    "k = 3\n",
    "# Number of training data\n",
    "n = data.shape[0]\n",
    "# Number of features in the data\n",
    "c = data.shape[1]\n",
    "\n",
    "# Generate random centers, here we use sigma and mean to ensure it represent the whole data\n",
    "mean = np.mean(data, axis = 0)\n",
    "std = np.std(data, axis = 0)\n",
    "centers = np.random.randn(k,c)*std + mean\n",
    "print(centers)"
   ]
  },
  {
   "cell_type": "code",
   "execution_count": null,
   "metadata": {},
   "outputs": [],
   "source": [
    "# Plotting along with the Centroids\n",
    "plt.scatter(data[:,0], data[:,1], c='#050505', s=7)\n",
    "plt.scatter(centers[:,0], centers[:,1], marker='*', s=200, c='g')"
   ]
  },
  {
   "cell_type": "code",
   "execution_count": null,
   "metadata": {},
   "outputs": [],
   "source": [
    "# To store the value of centroids when it updates\n",
    "centers_old = np.zeros(centers.shape)\n",
    "# Cluster Lables(0, 1, 2, ... , k-1)\n",
    "clusters = np.zeros(len(data))\n",
    "# Error func. - Distance between new centroids and old centroids\n",
    "error = dist(centers, centers_old, None)\n",
    "# Loop will run till the error becomes zero\n",
    "while error != 0:\n",
    "    # Assigning each value to its closest cluster\n",
    "    for i in range(len(data)):\n",
    "        distances = dist(data[i], centers)\n",
    "        cluster = np.argmin(distances)\n",
    "        clusters[i] = cluster\n",
    "    # Storing the old centroid values\n",
    "    centers_old = deepcopy(centers)\n",
    "    # Finding the new centroids by taking the average value\n",
    "    for i in range(k):\n",
    "        points = [data[j] for j in range(len(data)) if clusters[j] == i]\n",
    "        centers[i] = np.mean(points, axis=0)\n",
    "    error = dist(centers, centers_old, None)"
   ]
  },
  {
   "cell_type": "code",
   "execution_count": null,
   "metadata": {},
   "outputs": [],
   "source": [
    "colors = ['r', 'g', 'b', 'y', 'c', 'm']\n",
    "fig, ax = plt.subplots()\n",
    "for i in range(k):\n",
    "        points = np.array([data[j] for j in range(len(data)) if clusters[j] == i])\n",
    "        ax.scatter(points[:, 0], points[:, 1], s=7, c=colors[i])\n",
    "ax.scatter(centers[:, 0], centers[:, 1], marker='*', s=200, c='#050505')"
   ]
  },
  {
   "cell_type": "code",
   "execution_count": null,
   "metadata": {},
   "outputs": [],
   "source": [
    "# Calculate reconstruction data and error\n",
    "recon_error = np.zeros(k)\n",
    "recon_data = centers[clusters.astype(int)]\n",
    "recon_error = np.sum(np.square((recon_data-data)))\n",
    "\n",
    "print(recon_error)"
   ]
  },
  {
   "cell_type": "code",
   "execution_count": null,
   "metadata": {},
   "outputs": [],
   "source": []
  },
  {
   "cell_type": "code",
   "execution_count": null,
   "metadata": {},
   "outputs": [],
   "source": []
  },
  {
   "cell_type": "code",
   "execution_count": null,
   "metadata": {},
   "outputs": [],
   "source": [
    "def kmeans(k, data):\n",
    "    # Number of training data\n",
    "    n = data.shape[0]\n",
    "    # Number of features in the data\n",
    "    c = data.shape[1]\n",
    "\n",
    "    # Generate random centers, here we use sigma and mean to ensure it represent the whole data\n",
    "    mean = np.mean(data, axis = 0)\n",
    "    std = np.std(data, axis = 0)\n",
    "    centers = np.random.randn(k,c)*std + mean\n",
    "    # To store the value of centroids when it updates\n",
    "    \n",
    "    centers_old = np.zeros(centers.shape)\n",
    "    # Cluster Lables(0, 1, 2, ... , k)\n",
    "    clusters = np.zeros(len(data))\n",
    "    # Error func. - Distance between new centroids and old centroids\n",
    "    error = dist(centers, centers_old, None)\n",
    "    # Loop will run till the error becomes zero\n",
    "    while error != 0:\n",
    "        # Assigning each value to its closest cluster\n",
    "        for i in range(len(data)):\n",
    "            distances = dist(data[i], centers)\n",
    "            cluster = np.argmin(distances)\n",
    "            clusters[i] = cluster\n",
    "        # Storing the old centroid values\n",
    "        centers_old = deepcopy(centers)\n",
    "        # Finding the new centroids by taking the average value\n",
    "        for i in range(k):\n",
    "            points = [data[j] for j in range(len(data)) if clusters[j] == i]\n",
    "            if not len(points) == 0:\n",
    "                centers[i] = np.mean(points, axis=0)\n",
    "            else:\n",
    "                centers[i] = 0\n",
    "        error = dist(centers, centers_old, None)\n",
    "        \n",
    "    # Calculate reconstruction data and error\n",
    "    recon_data = centers[clusters.astype(int)]\n",
    "    recon_error = np.sum(np.square((recon_data-data)))\n",
    "    \n",
    "    return recon_data, recon_error\n",
    "\n",
    "error = np.zeros(5)\n",
    "for i in range(5):\n",
    "    error[i] = kmeans(i+1, data)[1]\n",
    "    print(\"Error for K = \" + str(i+1) + \" : \" + str(error[i]))\n",
    "\n",
    "plt.plot(np.arange(1, 6), error)"
   ]
  },
  {
   "cell_type": "code",
   "execution_count": null,
   "metadata": {},
   "outputs": [],
   "source": [
    "# Image compression\n",
    "import cv2\n",
    "from mpl_toolkits.mplot3d import Axes3D\n",
    "\n",
    "# read image\n",
    "img = cv2.imread('test_image.jpg')\n",
    "img = cv2.resize(img, (100, 100))\n",
    "\n",
    "#convert from BGR to RGB\n",
    "img = cv2.cvtColor(img, cv2.COLOR_BGR2RGB)\n"
   ]
  },
  {
   "cell_type": "code",
   "execution_count": null,
   "metadata": {},
   "outputs": [],
   "source": [
    "# Calculate objective function\n",
    "data = img.reshape(-1, 3)\n",
    "error = np.zeros(5)\n",
    "for i in range(5):\n",
    "    recon_data, error[i] = kmeans(i+1, data)\n",
    "    recon_img = recon_data.reshape(img.shape)\n",
    "    cv2.imwrite('recon_img' + str(i+1) + '.jpg', recon_img)\n",
    "    print(\"Error for K = \" + str(i+1) + \" : \" + str(error[i]))\n",
    "\n",
    "plt.plot(np.arange(1, 6), error)"
   ]
  },
  {
   "cell_type": "code",
   "execution_count": null,
   "metadata": {},
   "outputs": [],
   "source": []
  },
  {
   "cell_type": "code",
   "execution_count": null,
   "metadata": {},
   "outputs": [],
   "source": []
  }
 ],
 "metadata": {
  "kernelspec": {
   "display_name": "Python 3",
   "language": "python",
   "name": "python3"
  },
  "language_info": {
   "codemirror_mode": {
    "name": "ipython",
    "version": 3
   },
   "file_extension": ".py",
   "mimetype": "text/x-python",
   "name": "python",
   "nbconvert_exporter": "python",
   "pygments_lexer": "ipython3",
   "version": "3.6.5"
  }
 },
 "nbformat": 4,
 "nbformat_minor": 2
}
