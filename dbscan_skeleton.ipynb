{
 "cells": [
  {
   "cell_type": "code",
   "execution_count": null,
   "metadata": {},
   "outputs": [],
   "source": [
    "import numpy as np\n",
    "import matplotlib.pyplot as plt\n",
    "import seaborn as sns\n",
    "import sklearn.datasets as data\n",
    "import hdbscan\n",
    "\n",
    "%matplotlib inline\n",
    "sns.set_context('poster')\n",
    "sns.set_style('white')\n",
    "sns.set_color_codes()\n",
    "plot_kwds = {'alpha' : 0.5, 's' : 80, 'linewidths':0}\n",
    "\n",
    "moons, _ = data.make_moons(n_samples=50, noise=0.05)\n",
    "blobs, _ = data.make_blobs(n_samples=50, centers=[(-0.75,2.25), (1.0, 2.0)], cluster_std=0.25)\n",
    "test_data = np.vstack([moons, blobs])\n",
    "plt.scatter(test_data.T[0], test_data.T[1], color='b', **plot_kwds)"
   ]
  },
  {
   "cell_type": "code",
   "execution_count": null,
   "metadata": {},
   "outputs": [],
   "source": [
    "\n",
    "def dbscan(data, eps, min_pts):\n",
    "    labels = np.zeros(len(data))\n",
    "\n",
    "    c = 0\n",
    "    for p in range(len(data)):\n",
    "        if not (labels[p] == 0):\n",
    "           continue\n",
    "        \n",
    "        neighbor = get_neighbor(data, p, eps)\n",
    "        if len(neighbor) < min_pts:\n",
    "            labels[p] = -1  \n",
    "        else: \n",
    "           c += 1\n",
    "           grow_cluster(data, labels, p, neighbor, c, eps, min_pts)\n",
    "    \n",
    "    return labels.astype(int)\n",
    "\n",
    "\n",
    "def grow_cluster(data, labels, p, neighbor, c, eps, min_pts):\n",
    "    labels[p] = c\n",
    "    while len(neighbor) > 0: \n",
    "        pn = neighbor.pop()\n",
    "        if labels[pn] == -1:\n",
    "            # TODO\n",
    "        elif labels[pn] == 0:\n",
    "            # TODO\n",
    "            \n",
    "def get_neighbor(data, p, eps):\n",
    "    neighbors = []\n",
    "    # TODO  \n",
    "    return neighbors"
   ]
  },
  {
   "cell_type": "code",
   "execution_count": null,
   "metadata": {},
   "outputs": [],
   "source": [
    "my_labels = dbscan(test_data, eps=0.3, min_pts=4)"
   ]
  },
  {
   "cell_type": "code",
   "execution_count": null,
   "metadata": {},
   "outputs": [],
   "source": [
    "print(my_labels)"
   ]
  },
  {
   "cell_type": "code",
   "execution_count": null,
   "metadata": {},
   "outputs": [],
   "source": [
    "colors = np.array(['r', 'g', 'b', 'y', 'c', 'm', 'k', 'w'])\n",
    "\n",
    "plt.scatter(test_data.T[0], test_data.T[1], c=colors[my_labels], **plot_kwds)"
   ]
  },
  {
   "cell_type": "code",
   "execution_count": null,
   "metadata": {},
   "outputs": [],
   "source": []
  }
 ],
 "metadata": {
  "kernelspec": {
   "display_name": "Python 3",
   "language": "python",
   "name": "python3"
  },
  "language_info": {
   "codemirror_mode": {
    "name": "ipython",
    "version": 3
   },
   "file_extension": ".py",
   "mimetype": "text/x-python",
   "name": "python",
   "nbconvert_exporter": "python",
   "pygments_lexer": "ipython3",
   "version": "3.7.1"
  }
 },
 "nbformat": 4,
 "nbformat_minor": 2
}
